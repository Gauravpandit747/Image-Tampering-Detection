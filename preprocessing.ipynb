{
 "cells": [
  {
   "cell_type": "code",
   "execution_count": 3,
   "metadata": {},
   "outputs": [],
   "source": [
    "import os\n",
    "import numpy as np\n",
    "import matplotlib.pyplot as plt\n",
    "import matplotlib.image as mpimg\n",
    "import tensorflow as tf\n",
    "from PIL import Image"
   ]
  },
  {
   "cell_type": "markdown",
   "metadata": {},
   "source": [
    "## Check Images\n",
    "Example of tampered images (in Tp folder) -- Originally in .jpg or .tif format"
   ]
  },
  {
   "cell_type": "code",
   "execution_count": 10,
   "metadata": {},
   "outputs": [],
   "source": [
    "#tp1_path = \"dataset/unzip/CASIA2/Tp/Tp_D_NNN_S_N_ind00093_cha00023_00487.tif\"\n",
    "tp1_path =  \"dataset/fake/test.jpg\""
   ]
  },
  {
   "cell_type": "code",
   "execution_count": 11,
   "metadata": {},
   "outputs": [
    {
     "data": {
      "image/png": "[encoded data removed]",
      "text/plain": [
       "<Figure size 640x480 with 1 Axes>"
      ]
     },
     "metadata": {},
     "output_type": "display_data"
    }
   ],
   "source": [
    "tp1 = mpimg.imread(tp1_path)\n",
    "imgplot = plt.imshow(tp1)\n",
    "plt.show()"
   ]
  },
  {
   "cell_type": "code",
   "execution_count": 12,
   "metadata": {},
   "outputs": [],
   "source": [
    "# tp2_path = \"dataset/unzip/CASIA2/Tp/Tp_S_CRN_S_N_ani10221_ani10221_12391.jpg\"\n",
    "tp2_path = \"dataset/fake/test_2.jpg\""
   ]
  },
  {
   "cell_type": "code",
   "execution_count": 13,
   "metadata": {},
   "outputs": [
    {
     "data": {
      "image/png": "[encoded data removed]",
      "text/plain": [
       "<Figure size 640x480 with 1 Axes>"
      ]
     },
     "metadata": {},
     "output_type": "display_data"
    }
   ],
   "source": [
    "tp2 = mpimg.imread(tp2_path)\n",
    "imgplot = plt.imshow(tp2)\n",
    "plt.show()"
   ]
  },
  {
   "cell_type": "markdown",
   "metadata": {},
   "source": [
    "## Convert tif files to jpg files"
   ]
  },
  {
   "cell_type": "code",
   "execution_count": 18,
   "metadata": {},
   "outputs": [],
   "source": [
    "def convertImageFormat(root): \n",
    "    extra_counter = 0\n",
    "    for infile in os.listdir(root):\n",
    "        # print(os.path.join(dir_path, infile))\n",
    "        if infile.endswith('.tif') or infile.endswith('.TIF'):\n",
    "            if os.path.isfile(os.path.splitext(os.path.join(root, infile))[0] + \".jpg\"):\n",
    "                    print(\"A jpg file already exists for %s\" % infile)\n",
    "                    outfile = infile[:-4] + \"_\" + extra_counter + \".jpg\"\n",
    "                    extra_counter += 1\n",
    "            else: \n",
    "                outfile = infile[:-3] + \"jpg\"\n",
    "                im = Image.open(os.path.join(root, infile))\n",
    "                out = im.convert(\"RGB\")\n",
    "                # outputfile = os.path.splitext(os.path.join(root, name))[0] + \".jpg\"\n",
    "                out.save(os.path.join(root, outfile), \"JPEG\", quality=90)\n",
    "                os.remove(os.path.join(root, infile))"
   ]
  },
  {
   "cell_type": "code",
   "execution_count": 24,
   "metadata": {},
   "outputs": [
    {
     "ename": "SyntaxError",
     "evalue": "unexpected EOF while parsing (4282029637.py, line 3)",
     "output_type": "error",
     "traceback": [
      "\u001b[1;36m  Cell \u001b[1;32mIn[24], line 3\u001b[1;36m\u001b[0m\n\u001b[1;33m    # convertImageFormat(root = \"dataset/unzip/CASIA2/Tp\")\u001b[0m\n\u001b[1;37m                                                          ^\u001b[0m\n\u001b[1;31mSyntaxError\u001b[0m\u001b[1;31m:\u001b[0m unexpected EOF while parsing\n"
     ]
    }
   ],
   "source": [
    "# made a smallset of data to test this function\n",
    "convertImageFormat(root = \"dataset/fake\")\n",
    "# convertImageFormat(root = \"dataset/unzip/CASIA2/Tp\")"
   ]
  },
  {
   "cell_type": "markdown",
   "metadata": {},
   "source": [
    "## Divide dataset into train/dev/test "
   ]
  },
  {
   "cell_type": "code",
   "execution_count": 45,
   "metadata": {},
   "outputs": [],
   "source": [
    "import random\n",
    "import shutil"
   ]
  },
  {
   "cell_type": "code",
   "execution_count": 62,
   "metadata": {},
   "outputs": [],
   "source": [
    "def split_dataset(root, c, dest):\n",
    "    # root = \"dataset/unzip/Au\"\n",
    "    files = os.listdir(root)\n",
    "    k = c * (len(files))\n",
    "    indices = random.sample(range(0, len(files)), int(k))\n",
    "    for i in indices:\n",
    "        selected = files[i]\n",
    "        shutil.move(os.path.join(root, selected), os.path.join(dest, selected))\n",
    "    "
   ]
  },
  {
   "cell_type": "code",
   "execution_count": 63,
   "metadata": {},
   "outputs": [],
   "source": [
    "split_dataset(root = \"./dataset/unzip/CASIA2/Au\", c = 0.05, dest = \"./dataset/dev/Au\")"
   ]
  },
  {
   "cell_type": "code",
   "execution_count": 64,
   "metadata": {},
   "outputs": [],
   "source": [
    "split_dataset(root = \"./dataset/unzip/CASIA2/Tp\", c = 0.05, dest = \"./dataset/dev/Tp\")"
   ]
  },
  {
   "cell_type": "code",
   "execution_count": 65,
   "metadata": {},
   "outputs": [],
   "source": [
    "split_dataset(root = \"./dataset/unzip/CASIA2/Au\", c = 0.05, dest = \"./dataset/test/Au\")\n",
    "split_dataset(root = \"./dataset/unzip/CASIA2/Tp\", c = 0.05, dest = \"./dataset/test/Tp\")"
   ]
  },
  {
   "cell_type": "markdown",
   "metadata": {},
   "source": [
    "## Check divided dataset"
   ]
  },
  {
   "cell_type": "code",
   "execution_count": 66,
   "metadata": {},
   "outputs": [],
   "source": [
    "files = os.listdir(\"./dataset/unzip/CASIA2/Au\")"
   ]
  },
  {
   "cell_type": "code",
   "execution_count": 67,
   "metadata": {},
   "outputs": [
    {
     "data": {
      "text/plain": [
       "6763"
      ]
     },
     "execution_count": 67,
     "metadata": {},
     "output_type": "execute_result"
    }
   ],
   "source": [
    "len(files)"
   ]
  },
  {
   "cell_type": "code",
   "execution_count": null,
   "metadata": {},
   "outputs": [],
   "source": []
  }
 ],
 "metadata": {
  "kernelspec": {
   "display_name": "Python 3",
   "language": "python",
   "name": "python3"
  },
  "language_info": {
   "codemirror_mode": {
    "name": "ipython",
    "version": 3
   },
   "file_extension": ".py",
   "mimetype": "text/x-python",
   "name": "python",
   "nbconvert_exporter": "python",
   "pygments_lexer": "ipython3",
   "version": "3.8.2"
  }
 },
 "nbformat": 4,
 "nbformat_minor": 2
}
